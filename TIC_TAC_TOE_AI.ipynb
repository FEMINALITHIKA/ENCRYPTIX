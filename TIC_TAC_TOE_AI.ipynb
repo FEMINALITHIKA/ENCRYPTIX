{
  "nbformat": 4,
  "nbformat_minor": 0,
  "metadata": {
    "colab": {
      "provenance": [],
      "authorship_tag": "ABX9TyPPXXcwltkZcyTJEk3b/4f+"
    },
    "kernelspec": {
      "name": "python3",
      "display_name": "Python 3"
    },
    "language_info": {
      "name": "python"
    }
  },
  "cells": [
    {
      "cell_type": "code",
      "execution_count": null,
      "metadata": {
        "id": "wvRb2NyZkFM3"
      },
      "outputs": [],
      "source": [
        "# Initialize an empty 3x3 board\n",
        "board = [\n",
        "    ['_', '_', '_'],\n",
        "    ['_', '_', '_'],\n",
        "    ['_', '_', '_']\n",
        "]\n"
      ]
    },
    {
      "cell_type": "code",
      "source": [
        "def print_board(board):\n",
        "    for row in board:\n",
        "        print(' | '.join(row))\n",
        "        print('---------')\n",
        "\n"
      ],
      "metadata": {
        "id": "xUh5I_OrkPWY"
      },
      "execution_count": null,
      "outputs": []
    },
    {
      "cell_type": "code",
      "source": [
        "def check_winner(board, player):\n",
        "    # Check rows\n",
        "    for row in board:\n",
        "        if all(cell == player for cell in row):\n",
        "            return True\n",
        "\n",
        "    # Check columns\n",
        "    for col in range(3):\n",
        "        if all(board[row][col] == player for row in range(3)):\n",
        "            return True\n",
        "\n",
        "    # Check diagonals\n",
        "    if all(board[i][i] == player for i in range(3)) or all(board[i][2-i] == player for i in range(3)):\n",
        "        return True\n",
        "\n",
        "    return False\n"
      ],
      "metadata": {
        "id": "1peDscmpkTlE"
      },
      "execution_count": null,
      "outputs": []
    },
    {
      "cell_type": "code",
      "source": [
        "import math\n",
        "\n",
        "def minimax(board, depth, is_maximizing):\n",
        "    # Base cases: check if game is over\n",
        "    if check_winner(board, 'X'):\n",
        "        return -10 + depth\n",
        "    elif check_winner(board, 'O'):\n",
        "        return 10 - depth\n",
        "    elif not any('_' in row for row in board):\n",
        "        return 0\n",
        "\n",
        "    if is_maximizing:\n",
        "        best_score = -math.inf\n",
        "        for row in range(3):\n",
        "            for col in range(3):\n",
        "                if board[row][col] == '_':\n",
        "                    board[row][col] = 'O'\n",
        "                    score = minimax(board, depth + 1, False)\n",
        "                    board[row][col] = '_'\n",
        "                    best_score = max(score, best_score)\n",
        "        return best_score\n",
        "    else:\n",
        "        best_score = math.inf\n",
        "        for row in range(3):\n",
        "            for col in range(3):\n",
        "                if board[row][col] == '_':\n",
        "                    board[row][col] = 'X'\n",
        "                    score = minimax(board, depth + 1, True)\n",
        "                    board[row][col] = '_'\n",
        "                    best_score = min(score, best_score)\n",
        "        return best_score\n"
      ],
      "metadata": {
        "id": "-MPrtEqAkXx4"
      },
      "execution_count": null,
      "outputs": []
    },
    {
      "cell_type": "code",
      "source": [
        "def ai_move(board):\n",
        "    best_score = -math.inf\n",
        "    best_move = None\n",
        "\n",
        "    for row in range(3):\n",
        "        for col in range(3):\n",
        "            if board[row][col] == '_':\n",
        "                board[row][col] = 'O'\n",
        "                score = minimax(board, 0, False)\n",
        "                board[row][col] = '_'\n",
        "                if score > best_score:\n",
        "                    best_score = score\n",
        "                    best_move = (row, col)\n",
        "\n",
        "    board[best_move[0]][best_move[1]] = 'O'\n"
      ],
      "metadata": {
        "id": "2EKTWzWrkb9_"
      },
      "execution_count": null,
      "outputs": []
    },
    {
      "cell_type": "code",
      "source": [
        "def play_game():\n",
        "    board = [\n",
        "        ['_', '_', '_'],\n",
        "        ['_', '_', '_'],\n",
        "        ['_', '_', '_']\n",
        "    ]\n",
        "    current_player = 'X'  # Human player starts\n",
        "\n",
        "    while True:\n",
        "        print_board(board)\n",
        "\n",
        "        if current_player == 'X':\n",
        "            # Human player's turn\n",
        "            row = int(input(\"Enter row (0, 1, or 2): \"))\n",
        "            col = int(input(\"Enter column (0, 1, or 2): \"))\n",
        "\n",
        "            if board[row][col] == '_':\n",
        "                board[row][col] = 'X'\n",
        "                current_player = 'O'\n",
        "        else:\n",
        "            # AI's turn\n",
        "            ai_move(board)\n",
        "            current_player = 'X'\n",
        "\n",
        "        # Check if game is over\n",
        "        if check_winner(board, 'X'):\n",
        "            print_board(board)\n",
        "            print(\"Congratulations! You won!\")\n",
        "            break\n",
        "        elif check_winner(board, 'O'):\n",
        "            print_board(board)\n",
        "            print(\"AI wins!\")\n",
        "            break\n",
        "        elif not any('_' in row for row in board):\n",
        "            print_board(board)\n",
        "            print(\"It's a draw!\")\n",
        "            break\n"
      ],
      "metadata": {
        "id": "bF0hdY3ckgVa"
      },
      "execution_count": null,
      "outputs": []
    },
    {
      "cell_type": "code",
      "source": [
        "play_game()\n",
        "\n"
      ],
      "metadata": {
        "colab": {
          "base_uri": "https://localhost:8080/"
        },
        "id": "nerHd7cUkkG0",
        "outputId": "f9be6b13-78ab-4eaf-a6c8-4d3903d89a36"
      },
      "execution_count": null,
      "outputs": [
        {
          "output_type": "stream",
          "name": "stdout",
          "text": [
            "_ | _ | _\n",
            "---------\n",
            "_ | _ | _\n",
            "---------\n",
            "_ | _ | _\n",
            "---------\n",
            "Enter row (0, 1, or 2): 0\n",
            "Enter column (0, 1, or 2): 0\n",
            "X | _ | _\n",
            "---------\n",
            "_ | _ | _\n",
            "---------\n",
            "_ | _ | _\n",
            "---------\n",
            "X | _ | _\n",
            "---------\n",
            "_ | O | _\n",
            "---------\n",
            "_ | _ | _\n",
            "---------\n",
            "Enter row (0, 1, or 2): 1\n",
            "Enter column (0, 1, or 2): 0\n",
            "X | _ | _\n",
            "---------\n",
            "X | O | _\n",
            "---------\n",
            "_ | _ | _\n",
            "---------\n",
            "X | _ | _\n",
            "---------\n",
            "X | O | _\n",
            "---------\n",
            "O | _ | _\n",
            "---------\n",
            "Enter row (0, 1, or 2): 0\n",
            "Enter column (0, 1, or 2): 2\n",
            "X | _ | X\n",
            "---------\n",
            "X | O | _\n",
            "---------\n",
            "O | _ | _\n",
            "---------\n",
            "X | O | X\n",
            "---------\n",
            "X | O | _\n",
            "---------\n",
            "O | _ | _\n",
            "---------\n",
            "Enter row (0, 1, or 2): 2\n",
            "Enter column (0, 1, or 2): 1\n",
            "X | O | X\n",
            "---------\n",
            "X | O | _\n",
            "---------\n",
            "O | X | _\n",
            "---------\n",
            "X | O | X\n",
            "---------\n",
            "X | O | O\n",
            "---------\n",
            "O | X | _\n",
            "---------\n",
            "Enter row (0, 1, or 2): 2\n",
            "Enter column (0, 1, or 2): 2\n",
            "X | O | X\n",
            "---------\n",
            "X | O | O\n",
            "---------\n",
            "O | X | X\n",
            "---------\n",
            "It's a draw!\n"
          ]
        }
      ]
    }
  ]
}