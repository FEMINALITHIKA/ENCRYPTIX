{
  "nbformat": 4,
  "nbformat_minor": 0,
  "metadata": {
    "colab": {
      "provenance": [],
      "authorship_tag": "ABX9TyM2RJigESrtEH2u/iWXHC2w"
    },
    "kernelspec": {
      "name": "python3",
      "display_name": "Python 3"
    },
    "language_info": {
      "name": "python"
    }
  },
  "cells": [
    {
      "cell_type": "code",
      "execution_count": null,
      "metadata": {
        "colab": {
          "base_uri": "https://localhost:8080/"
        },
        "id": "8Ql-lMiQ6IP5",
        "outputId": "50ca10da-7ec6-4c9b-c1fa-b418e3f7d441"
      },
      "outputs": [
        {
          "output_type": "stream",
          "name": "stdout",
          "text": [
            "Chatbot: Hi! I'm a simple chatbot, here to assist you!\n",
            "Chatbot: I'm just a chatbot, but I'm here to help you.\n",
            "Chatbot: I'm sorry, I didn't quite catch that. Could you please ask again?\n",
            "Chatbot: Did you know that honey never spoils? Archaeologists have found pots of honey in ancient Egyptian tombs that are over 3,000 years old and still perfectly edible!\n",
            "Chatbot: Hello! What can I do for you?\n",
            "Chatbot: I don't have real-time information, but you can check your device's clock.\n",
            "You: BYE\n",
            "Chatbot: Goodbye! Have a wonderful day!\n"
          ]
        }
      ],
      "source": [
        "# Data containing patterns and responses\n",
        "data = {\n",
        "    \"hi\": \"Hi there! How can I assist you today?\",\n",
        "    \"hello\": \"Hello! What can I do for you?\",\n",
        "    \"what is your name\": \"I'm just a chatbot, so I don't have a name, but you can call me ChatBot.\",\n",
        "    \"where are you from\": \"I'm from the digital world, always ready to chat!\",\n",
        "    \"how are you\": \"I'm just a chatbot, but I'm here to help you.\",\n",
        "    \"do you have any hobbies or interests?\": \"My hobby is answering your questions and helping you out!\",\n",
        "    \"what did you eat today?\": \"I don't eat, but I'm here to assist you with any questions you have.\",\n",
        "    \"what's your favorite color?\": \"I'm a chatbot, so I don't have personal preferences for colors.\",\n",
        "    \"do you enjoy listening to music?\": \"I can't listen to music, but I'm here to chat about it!\",\n",
        "    \"bye\": \"Goodbye! Have a wonderful day!\",\n",
        "    \"what can you do?\": \"I can assist you with answering questions, providing information, and engaging in casual conversation.\",\n",
        "    \"how old are you?\": \"I'm a chatbot, so I don't have an age!\",\n",
        "    \"what languages do you speak?\": \"I primarily speak English, but I can understand and respond in multiple languages.\",\n",
        "    \"can you help me?\": \"Of course! Feel free to ask me anything.\",\n",
        "    \"what is the meaning of life?\": \"That's a deep question! The meaning of life can vary for each person.\",\n",
        "    \"tell me a joke\": \"Why don't skeletons fight each other? They don't have the guts!\",\n",
        "    \"how can I contact you?\": \"You can't contact me directly, but I'm here to chat with you right now.\",\n",
        "    \"what's the weather like today?\": \"I don't have real-time information, but you can check a weather app!\",\n",
        "    \"tell me a story\": \"Once upon a time, there was a chatbot who loved helping people...\",\n",
        "    \"what do you think about artificial intelligence?\": \"I think it's fascinating! AI enables chatbots like me to assist you.\",\n",
        "    \"are you a robot?\": \"Yes, I am a chatbot powered by artificial intelligence.\",\n",
        "    \"can you learn from me?\": \"I don't learn in the traditional sense, but I can remember information during our conversation.\",\n",
        "    \"do you dream?\": \"No, I don't dream like humans do.\",\n",
        "    \"what are your hobbies?\": \"My hobby is chatting with people like you and providing assistance.\",\n",
        "    \"what's the capital of France?\": \"The capital of France is Paris.\",\n",
        "    \"who created you?\": \"I was created by developers at OpenAI.\",\n",
        "    \"do you have emotions?\": \"I don't have emotions, but I'm here to help you with yours!\",\n",
        "    \"tell me about yourself\": \"I'm a chatbot designed to assist and chat with you. What would you like to know?\",\n",
        "    \"what is the best movie of all time?\": \"Opinions vary, but 'The Godfather' is often considered one of the best.\",\n",
        "    \"how can I improve my programming skills?\": \"Practice regularly and explore new concepts. Online courses and tutorials can also be helpful.\",\n",
        "    \"what's the meaning of AI?\": \"AI stands for Artificial Intelligence, which involves creating machines that can perform tasks that typically require human intelligence.\",\n",
        "    \"tell me about the latest technology trends\": \"Some current trends include AI, machine learning, blockchain, and cybersecurity.\",\n",
        "    \"do you have any siblings?\": \"No, I'm the only chatbot here!\",\n",
        "    \"what's your favorite book?\": \"I don't read books, but I can recommend some based on your interests!\",\n",
        "    \"can you tell me about Elon Musk?\": \"Elon Musk is a well-known entrepreneur and CEO of Tesla and SpaceX.\",\n",
        "    \"how do I learn to play the guitar?\": \"Start with learning basic chords and practice regularly. Online tutorials and lessons can also be helpful.\",\n",
        "    \"where can I find good restaurants nearby?\": \"You can use apps like Yelp or Google Maps to find restaurants near your location.\",\n",
        "    \"what's the tallest mountain in the world?\": \"Mount Everest is the tallest mountain above sea level.\",\n",
        "    \"how do I stay motivated?\": \"Set achievable goals, stay organized, and surround yourself with supportive people.\",\n",
        "    \"can you recommend a good movie?\": \"What genre do you enjoy? I can suggest a movie based on your preferences.\",\n",
        "    \"what is the population of Tokyo?\": \"As of the latest data, Tokyo's population is over 9 million people.\",\n",
        "    \"what's the difference between AI and machine learning?\": \"AI is the broader concept of machines performing tasks that typically require human intelligence. Machine learning is a subset of AI focused on algorithms that learn from data and improve over time.\",\n",
        "    \"tell me about the history of computers\": \"Computers have evolved significantly since their inception, starting with early mechanical devices to the modern digital computers we use today.\",\n",
        "    \"what are your thoughts on privacy?\": \"Privacy is important for individuals and organizations to protect sensitive information.\",\n",
        "    \"how do I start learning to code?\": \"Choose a programming language, find resources like tutorials or online courses, and practice writing code.\",\n",
        "    \"what's your favorite sport?\": \"As a chatbot, I don't have personal preferences for sports.\",\n",
        "    \"tell me a fun fact\": \"Did you know that honey never spoils? Archaeologists have found pots of honey in ancient Egyptian tombs that are over 3,000 years old and still perfectly edible!\",\n",
        "    \"where can I buy groceries online?\": \"You can buy groceries online from various supermarkets and grocery delivery services.\",\n",
        "    \"what's the best way to learn a new language?\": \"Immerse yourself in the language by practicing speaking, listening, reading, and writing regularly.\",\n",
        "    \"what's your favorite food?\": \"I don't eat, but I can help you find recipes or food-related information!\",\n",
        "    \"can you help me with my homework?\": \"I can provide guidance and help you understand concepts, but I won't do your homework for you!\",\n",
        "    \"what's the current time? \": \"I don't have real-time information, but you can check your device's clock.\",\n",
        "    \"what's the meaning of happiness?\": \"Happiness is a subjective feeling of contentment and well-being.\",\n",
        "    \"can you recommend a good book?\": \"What genre do you enjoy? I can suggest a book based on your interests.\",\n",
        "    \"tell me about your favorite movie\": \"As a chatbot, I don't have personal preferences for movies.\",\n",
        "    \"how do I start a blog?\": \"Choose a platform, decide on your niche or topic, create engaging content, and promote your blog.\",\n",
        "    \"where can I find job opportunities?\": \"You can search for job opportunities on job boards, company websites, and professional networking sites like LinkedIn.\",\n",
        "    \"what's the best way to relax?\": \"It depends on your preferences, but activities like meditation, reading, or spending time outdoors can be relaxing.\",\n",
        "}\n",
        "\n",
        "# Function to retrieve response based on user input\n",
        "def get_response(user_input):\n",
        "    for pattern, response in data.items():\n",
        "        if pattern in user_input:\n",
        "            return response\n",
        "    return \"I'm sorry, I didn't quite catch that. Could you please ask again?\"\n",
        "\n",
        "# Main chat function\n",
        "def chat():\n",
        "    print(\"Chatbot: Hi! I'm a simple chatbot, here to assist you!\")\n",
        "    while True:\n",
        "        user_input = input(\"You: \")\n",
        "        if user_input.lower() == 'bye':\n",
        "            print(\"Chatbot: Goodbye! Have a wonderful day!\")\n",
        "            break\n",
        "        response = get_response(user_input.lower())\n",
        "        print(\"Chatbot:\", response)\n",
        "\n",
        "# Run the chat function\n",
        "if __name__ == \"__main__\":\n",
        "    chat()\n"
      ]
    }
  ]
}